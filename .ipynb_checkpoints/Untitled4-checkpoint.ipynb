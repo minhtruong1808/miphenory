{
 "cells": [
  {
   "cell_type": "code",
   "execution_count": 54,
   "metadata": {},
   "outputs": [],
   "source": [
    "import csv\n",
    "from datetime import datetime\n",
    "import requests\n",
    "from urllib.request import urlopen\n",
    "from bs4 import BeautifulSoup\n",
    "import re"
   ]
  },
  {
   "cell_type": "code",
   "execution_count": 66,
   "metadata": {},
   "outputs": [],
   "source": [
    "def get_url(location):\n",
    "    \"\"\"Generate url from position and location\"\"\"\n",
    "    template = 'https://au.indeed.com/jobs?q=&l={}'\n",
    "    location = location.replace(' ', '+')\n",
    "    url = template.format(location)\n",
    "    return url\n",
    "\n",
    "\n",
    "def get_record(card):\n",
    "    \"\"\"Extract job data from a single record\"\"\"\n",
    "    \n",
    "    job_title = card.h2.a.get('title')\n",
    "    company = card.find('span', 'company').text.strip()\n",
    "    job_location = card.find('div', 'recJobLoc').get('data-rc-loc')\n",
    "    post_date = card.find('span', 'date').text\n",
    "    today = datetime.today().strftime('%Y-%m-%d')\n",
    "    summary = card.find('div', 'summary').text.strip().replace('\\n', ' ')\n",
    "    job_url = 'https://www.indeed.com' + card.h2.a.get('href')\n",
    "    review =  card.find(\"span\", title=re.compile(\" \" \"  \")).text\n",
    "    \n",
    "    # this does not exists for all jobs, so handle the exceptions\n",
    "    salary_tag = card.find('span', 'salaryText')\n",
    "    if salary_tag:\n",
    "        salary = salary_tag.text.strip()\n",
    "    else:\n",
    "        salary = ''  \n",
    "        \n",
    "    record = (job_title, company, job_location, post_date, today, summary, salary, job_url, review)\n",
    "    return record\n",
    "\n",
    "\n",
    "def main(location):\n",
    "    \"\"\"Run the main program routine\"\"\"\n",
    "    records = []\n",
    "    url = get_url(location)\n",
    "    \n",
    "    # extract the job data\n",
    "    while True:\n",
    "        response =urlopen(url)\n",
    "        soup = BeautifulSoup(response, 'html.parser')\n",
    "        cards = soup.find_all('div', 'jobsearch-SerpJobCard')\n",
    "        for card in cards:\n",
    "            record = get_record(card)\n",
    "            records.append(record)\n",
    "        try:\n",
    "            url = 'https://www.indeed.com' + soup.find('a', {'aria-label': 'Next'}).get('href')\n",
    "        except AttributeError:\n",
    "            break\n",
    "        \n",
    "    # save the job data\n",
    "    with open('dataset-simple.csv', 'w', newline='', encoding='utf-8') as f:\n",
    "        writer = csv.writer(f)\n",
    "        writer.writerow(['JobTitle', 'Company', 'Location', 'PostDate', 'ExtractDate', 'Summary', 'Salary', 'JobUrl','Review'])\n",
    "        writer.writerows(records)"
   ]
  },
  {
   "cell_type": "code",
   "execution_count": 67,
   "metadata": {},
   "outputs": [
    {
     "ename": "AttributeError",
     "evalue": "'NoneType' object has no attribute 'text'",
     "output_type": "error",
     "traceback": [
      "\u001b[1;31m---------------------------------------------------------------------------\u001b[0m",
      "\u001b[1;31mAttributeError\u001b[0m                            Traceback (most recent call last)",
      "\u001b[1;32m<ipython-input-67-83e3d2e0f799>\u001b[0m in \u001b[0;36m<module>\u001b[1;34m\u001b[0m\n\u001b[1;32m----> 1\u001b[1;33m \u001b[0mmain\u001b[0m\u001b[1;33m(\u001b[0m\u001b[1;34m'Houston'\u001b[0m\u001b[1;33m)\u001b[0m\u001b[1;33m\u001b[0m\u001b[1;33m\u001b[0m\u001b[0m\n\u001b[0m",
      "\u001b[1;32m<ipython-input-66-70043489054d>\u001b[0m in \u001b[0;36mmain\u001b[1;34m(location)\u001b[0m\n\u001b[0;32m     45\u001b[0m         \u001b[0mcards\u001b[0m \u001b[1;33m=\u001b[0m \u001b[0msoup\u001b[0m\u001b[1;33m.\u001b[0m\u001b[0mfind_all\u001b[0m\u001b[1;33m(\u001b[0m\u001b[1;34m'div'\u001b[0m\u001b[1;33m,\u001b[0m \u001b[1;34m'jobsearch-SerpJobCard'\u001b[0m\u001b[1;33m)\u001b[0m\u001b[1;33m\u001b[0m\u001b[1;33m\u001b[0m\u001b[0m\n\u001b[0;32m     46\u001b[0m         \u001b[1;32mfor\u001b[0m \u001b[0mcard\u001b[0m \u001b[1;32min\u001b[0m \u001b[0mcards\u001b[0m\u001b[1;33m:\u001b[0m\u001b[1;33m\u001b[0m\u001b[1;33m\u001b[0m\u001b[0m\n\u001b[1;32m---> 47\u001b[1;33m             \u001b[0mrecord\u001b[0m \u001b[1;33m=\u001b[0m \u001b[0mget_record\u001b[0m\u001b[1;33m(\u001b[0m\u001b[0mcard\u001b[0m\u001b[1;33m)\u001b[0m\u001b[1;33m\u001b[0m\u001b[1;33m\u001b[0m\u001b[0m\n\u001b[0m\u001b[0;32m     48\u001b[0m             \u001b[0mrecords\u001b[0m\u001b[1;33m.\u001b[0m\u001b[0mappend\u001b[0m\u001b[1;33m(\u001b[0m\u001b[0mrecord\u001b[0m\u001b[1;33m)\u001b[0m\u001b[1;33m\u001b[0m\u001b[1;33m\u001b[0m\u001b[0m\n\u001b[0;32m     49\u001b[0m         \u001b[1;32mtry\u001b[0m\u001b[1;33m:\u001b[0m\u001b[1;33m\u001b[0m\u001b[1;33m\u001b[0m\u001b[0m\n",
      "\u001b[1;32m<ipython-input-66-70043489054d>\u001b[0m in \u001b[0;36mget_record\u001b[1;34m(card)\u001b[0m\n\u001b[0;32m     21\u001b[0m     \u001b[0msummary\u001b[0m \u001b[1;33m=\u001b[0m \u001b[0mcard\u001b[0m\u001b[1;33m.\u001b[0m\u001b[0mfind\u001b[0m\u001b[1;33m(\u001b[0m\u001b[1;34m'div'\u001b[0m\u001b[1;33m,\u001b[0m \u001b[1;34m'summary'\u001b[0m\u001b[1;33m)\u001b[0m\u001b[1;33m.\u001b[0m\u001b[0mtext\u001b[0m\u001b[1;33m.\u001b[0m\u001b[0mstrip\u001b[0m\u001b[1;33m(\u001b[0m\u001b[1;33m)\u001b[0m\u001b[1;33m.\u001b[0m\u001b[0mreplace\u001b[0m\u001b[1;33m(\u001b[0m\u001b[1;34m'\\n'\u001b[0m\u001b[1;33m,\u001b[0m \u001b[1;34m' '\u001b[0m\u001b[1;33m)\u001b[0m\u001b[1;33m\u001b[0m\u001b[1;33m\u001b[0m\u001b[0m\n\u001b[0;32m     22\u001b[0m     \u001b[0mjob_url\u001b[0m \u001b[1;33m=\u001b[0m \u001b[1;34m'https://www.indeed.com'\u001b[0m \u001b[1;33m+\u001b[0m \u001b[0mcard\u001b[0m\u001b[1;33m.\u001b[0m\u001b[0mh2\u001b[0m\u001b[1;33m.\u001b[0m\u001b[0ma\u001b[0m\u001b[1;33m.\u001b[0m\u001b[0mget\u001b[0m\u001b[1;33m(\u001b[0m\u001b[1;34m'href'\u001b[0m\u001b[1;33m)\u001b[0m\u001b[1;33m\u001b[0m\u001b[1;33m\u001b[0m\u001b[0m\n\u001b[1;32m---> 23\u001b[1;33m     \u001b[0mreview\u001b[0m \u001b[1;33m=\u001b[0m  \u001b[0msoup1\u001b[0m\u001b[1;33m.\u001b[0m\u001b[0mselect_one\u001b[0m\u001b[1;33m(\u001b[0m\u001b[1;34m\"div.sjcl\"\u001b[0m\u001b[1;33m)\u001b[0m\u001b[1;33m.\u001b[0m\u001b[0mselect_one\u001b[0m\u001b[1;33m(\u001b[0m\u001b[1;34m\"span.ratingsContent\"\u001b[0m\u001b[1;33m)\u001b[0m\u001b[1;33m.\u001b[0m\u001b[0mtext\u001b[0m\u001b[1;33m\u001b[0m\u001b[1;33m\u001b[0m\u001b[0m\n\u001b[0m\u001b[0;32m     24\u001b[0m \u001b[1;33m\u001b[0m\u001b[0m\n\u001b[0;32m     25\u001b[0m     \u001b[1;31m# this does not exists for all jobs, so handle the exceptions\u001b[0m\u001b[1;33m\u001b[0m\u001b[1;33m\u001b[0m\u001b[1;33m\u001b[0m\u001b[0m\n",
      "\u001b[1;31mAttributeError\u001b[0m: 'NoneType' object has no attribute 'text'"
     ]
    }
   ],
   "source": [
    "main('Houston')"
   ]
  },
  {
   "cell_type": "code",
   "execution_count": null,
   "metadata": {},
   "outputs": [],
   "source": [
    "import pandas as pd"
   ]
  },
  {
   "cell_type": "code",
   "execution_count": 49,
   "metadata": {},
   "outputs": [],
   "source": [
    "df= pd.read_csv('dataset-simple.csv')"
   ]
  },
  {
   "cell_type": "code",
   "execution_count": 50,
   "metadata": {},
   "outputs": [
    {
     "name": "stdout",
     "output_type": "stream",
     "text": [
      "<class 'pandas.core.frame.DataFrame'>\n",
      "RangeIndex: 15 entries, 0 to 14\n",
      "Data columns (total 9 columns):\n",
      "JobTitle       15 non-null object\n",
      "Company        15 non-null object\n",
      "Location       15 non-null object\n",
      "PostDate       15 non-null object\n",
      "ExtractDate    15 non-null object\n",
      "Summary        15 non-null object\n",
      "Salary         2 non-null object\n",
      "JobUrl         15 non-null object\n",
      "Review         14 non-null object\n",
      "dtypes: object(9)\n",
      "memory usage: 1.2+ KB\n"
     ]
    }
   ],
   "source": [
    "df.info()"
   ]
  },
  {
   "cell_type": "code",
   "execution_count": 51,
   "metadata": {},
   "outputs": [
    {
     "data": {
      "text/html": [
       "<div>\n",
       "<style scoped>\n",
       "    .dataframe tbody tr th:only-of-type {\n",
       "        vertical-align: middle;\n",
       "    }\n",
       "\n",
       "    .dataframe tbody tr th {\n",
       "        vertical-align: top;\n",
       "    }\n",
       "\n",
       "    .dataframe thead th {\n",
       "        text-align: right;\n",
       "    }\n",
       "</style>\n",
       "<table border=\"1\" class=\"dataframe\">\n",
       "  <thead>\n",
       "    <tr style=\"text-align: right;\">\n",
       "      <th></th>\n",
       "      <th>JobTitle</th>\n",
       "      <th>Company</th>\n",
       "      <th>Location</th>\n",
       "      <th>PostDate</th>\n",
       "      <th>ExtractDate</th>\n",
       "      <th>Summary</th>\n",
       "      <th>Salary</th>\n",
       "      <th>JobUrl</th>\n",
       "      <th>Review</th>\n",
       "    </tr>\n",
       "  </thead>\n",
       "  <tbody>\n",
       "    <tr>\n",
       "      <td>0</td>\n",
       "      <td>Casual Customer Service Officer</td>\n",
       "      <td>Queensland Government</td>\n",
       "      <td>Brisbane QLD</td>\n",
       "      <td>4 days ago</td>\n",
       "      <td>2020-09-29</td>\n",
       "      <td>Support other customer service officers and tr...</td>\n",
       "      <td>NaN</td>\n",
       "      <td>https://www.indeed.com/rc/clk?jk=1828eb0ad33ed...</td>\n",
       "      <td>&lt;span class=\"ratingsContent\"&gt;\\n4.0&lt;svg class=\"...</td>\n",
       "    </tr>\n",
       "    <tr>\n",
       "      <td>1</td>\n",
       "      <td>Night Fill Team Member</td>\n",
       "      <td>Woolworths Supermarkets</td>\n",
       "      <td>Springfield QLD</td>\n",
       "      <td>Just posted</td>\n",
       "      <td>2020-09-29</td>\n",
       "      <td>Whether you’re starting out, already on the wa...</td>\n",
       "      <td>NaN</td>\n",
       "      <td>https://www.indeed.com/rc/clk?jk=067a5bb757169...</td>\n",
       "      <td>&lt;span class=\"ratingsContent\"&gt;\\n3.8&lt;svg class=\"...</td>\n",
       "    </tr>\n",
       "    <tr>\n",
       "      <td>2</td>\n",
       "      <td>Customer Service Team Member</td>\n",
       "      <td>Woolworths Supermarkets</td>\n",
       "      <td>Springfield QLD</td>\n",
       "      <td>Just posted</td>\n",
       "      <td>2020-09-29</td>\n",
       "      <td>Whether you’re starting out, already on the wa...</td>\n",
       "      <td>NaN</td>\n",
       "      <td>https://www.indeed.com/rc/clk?jk=a1197a553ae39...</td>\n",
       "      <td>&lt;span class=\"ratingsContent\"&gt;\\n3.8&lt;svg class=\"...</td>\n",
       "    </tr>\n",
       "    <tr>\n",
       "      <td>3</td>\n",
       "      <td>Grocery Team Member</td>\n",
       "      <td>Woolworths Supermarkets</td>\n",
       "      <td>Strathpine QLD</td>\n",
       "      <td>Just posted</td>\n",
       "      <td>2020-09-29</td>\n",
       "      <td>Whether you’re starting out, already on the wa...</td>\n",
       "      <td>NaN</td>\n",
       "      <td>https://www.indeed.com/rc/clk?jk=c3a87782b8581...</td>\n",
       "      <td>&lt;span class=\"ratingsContent\"&gt;\\n3.8&lt;svg class=\"...</td>\n",
       "    </tr>\n",
       "    <tr>\n",
       "      <td>4</td>\n",
       "      <td>Assistant in Nursing</td>\n",
       "      <td>Queensland Government</td>\n",
       "      <td>Brisbane QLD</td>\n",
       "      <td>3 days ago</td>\n",
       "      <td>2020-09-29</td>\n",
       "      <td>This role assists the RN to effectively assess...</td>\n",
       "      <td>NaN</td>\n",
       "      <td>https://www.indeed.com/rc/clk?jk=1ba801fd32c7c...</td>\n",
       "      <td>&lt;span class=\"ratingsContent\"&gt;\\n4.0&lt;svg class=\"...</td>\n",
       "    </tr>\n",
       "  </tbody>\n",
       "</table>\n",
       "</div>"
      ],
      "text/plain": [
       "                          JobTitle                  Company         Location  \\\n",
       "0  Casual Customer Service Officer    Queensland Government     Brisbane QLD   \n",
       "1           Night Fill Team Member  Woolworths Supermarkets  Springfield QLD   \n",
       "2     Customer Service Team Member  Woolworths Supermarkets  Springfield QLD   \n",
       "3              Grocery Team Member  Woolworths Supermarkets   Strathpine QLD   \n",
       "4             Assistant in Nursing    Queensland Government     Brisbane QLD   \n",
       "\n",
       "      PostDate ExtractDate                                            Summary  \\\n",
       "0   4 days ago  2020-09-29  Support other customer service officers and tr...   \n",
       "1  Just posted  2020-09-29  Whether you’re starting out, already on the wa...   \n",
       "2  Just posted  2020-09-29  Whether you’re starting out, already on the wa...   \n",
       "3  Just posted  2020-09-29  Whether you’re starting out, already on the wa...   \n",
       "4   3 days ago  2020-09-29  This role assists the RN to effectively assess...   \n",
       "\n",
       "  Salary                                             JobUrl  \\\n",
       "0    NaN  https://www.indeed.com/rc/clk?jk=1828eb0ad33ed...   \n",
       "1    NaN  https://www.indeed.com/rc/clk?jk=067a5bb757169...   \n",
       "2    NaN  https://www.indeed.com/rc/clk?jk=a1197a553ae39...   \n",
       "3    NaN  https://www.indeed.com/rc/clk?jk=c3a87782b8581...   \n",
       "4    NaN  https://www.indeed.com/rc/clk?jk=1ba801fd32c7c...   \n",
       "\n",
       "                                              Review  \n",
       "0  <span class=\"ratingsContent\">\\n4.0<svg class=\"...  \n",
       "1  <span class=\"ratingsContent\">\\n3.8<svg class=\"...  \n",
       "2  <span class=\"ratingsContent\">\\n3.8<svg class=\"...  \n",
       "3  <span class=\"ratingsContent\">\\n3.8<svg class=\"...  \n",
       "4  <span class=\"ratingsContent\">\\n4.0<svg class=\"...  "
      ]
     },
     "execution_count": 51,
     "metadata": {},
     "output_type": "execute_result"
    }
   ],
   "source": [
    "df.head(5)"
   ]
  },
  {
   "cell_type": "code",
   "execution_count": 61,
   "metadata": {},
   "outputs": [],
   "source": [
    "r  = requests.get(\"https://au.indeed.com/jobs?q=&l=Australia\").content\n",
    "\n",
    "soup = BeautifulSoup(r,\"lxml\")\n",
    "cont = soup.select_one(\"div.sjcl\")\n",
    "ram = cont.select_one(\"span.ratingsContent\")\n",
    "print(ram.text)\n"
   ]
  },
  {
   "cell_type": "code",
   "execution_count": 63,
   "metadata": {},
   "outputs": [
    {
     "name": "stdout",
     "output_type": "stream",
     "text": [
      "\n",
      "4.0\n",
      "\n",
      "\n",
      "\n",
      "\n",
      "\n"
     ]
    }
   ],
   "source": [
    "print(ram)"
   ]
  },
  {
   "cell_type": "code",
   "execution_count": null,
   "metadata": {},
   "outputs": [],
   "source": []
  }
 ],
 "metadata": {
  "kernelspec": {
   "display_name": "Python 3",
   "language": "python",
   "name": "python3"
  },
  "language_info": {
   "codemirror_mode": {
    "name": "ipython",
    "version": 3
   },
   "file_extension": ".py",
   "mimetype": "text/x-python",
   "name": "python",
   "nbconvert_exporter": "python",
   "pygments_lexer": "ipython3",
   "version": "3.7.4"
  }
 },
 "nbformat": 4,
 "nbformat_minor": 2
}
